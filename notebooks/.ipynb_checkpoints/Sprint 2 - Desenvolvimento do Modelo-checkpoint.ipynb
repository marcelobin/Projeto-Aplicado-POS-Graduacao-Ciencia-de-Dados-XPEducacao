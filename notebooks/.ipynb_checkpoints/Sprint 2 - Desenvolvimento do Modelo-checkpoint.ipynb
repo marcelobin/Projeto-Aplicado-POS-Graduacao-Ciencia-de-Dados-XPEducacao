{
 "cells": [
  {
   "cell_type": "markdown",
   "id": "2c8c4a70-1fb2-49ea-831c-08b642760874",
   "metadata": {},
   "source": [
    "# **Sprint 2 - Desenvolvimento do Modelo** "
   ]
  },
  {
   "cell_type": "markdown",
   "id": "016c04b9-9543-4e95-9704-ea723055e3d1",
   "metadata": {},
   "source": [
    "Nesta Sprint vamos fazer as seguintes atividades:\n",
    "\n",
    "* **Escolha do Algoritmo:** Aqui, selecionaremos o algoritmo de classificação mais apropriado para o nosso projeto, com base nas características dos dados.\n",
    "\n",
    "* **Treinamento do Modelo:** Usando os dados preparados na Sprint 1, treinaremos o modelo de classificação. Isso envolve o ajuste dos parâmetros do algoritmo e a otimização do desempenho.\n",
    "\n",
    "* **Avaliação de Desempenho:** Avaliaremos o desempenho do modelo com diversas métricas de qualidade, garantindo que ele atenda aos nossos critérios de sucesso.\n"
   ]
  },
  {
   "cell_type": "markdown",
   "id": "48fc60f0-bd6c-4bf0-8894-078d5e5cb985",
   "metadata": {},
   "source": [
    "## Bibliotecas Utilizadas"
   ]
  },
  {
   "cell_type": "code",
   "execution_count": 1,
   "id": "307a59ee-08ac-41f3-8673-1f60a51c69a4",
   "metadata": {
    "tags": []
   },
   "outputs": [],
   "source": [
    "import pandas as pd\n",
    "import numpy as np\n"
   ]
  },
  {
   "cell_type": "code",
   "execution_count": null,
   "id": "489f52aa-834e-4127-8bd2-c0d7937c9560",
   "metadata": {},
   "outputs": [],
   "source": []
  }
 ],
 "metadata": {
  "kernelspec": {
   "display_name": "Python 3 (ipykernel)",
   "language": "python",
   "name": "python3"
  },
  "language_info": {
   "codemirror_mode": {
    "name": "ipython",
    "version": 3
   },
   "file_extension": ".py",
   "mimetype": "text/x-python",
   "name": "python",
   "nbconvert_exporter": "python",
   "pygments_lexer": "ipython3",
   "version": "3.11.5"
  }
 },
 "nbformat": 4,
 "nbformat_minor": 5
}
