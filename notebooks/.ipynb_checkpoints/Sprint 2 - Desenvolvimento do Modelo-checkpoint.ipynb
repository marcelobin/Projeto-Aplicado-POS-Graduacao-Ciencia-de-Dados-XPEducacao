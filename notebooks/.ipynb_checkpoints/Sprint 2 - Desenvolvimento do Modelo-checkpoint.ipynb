{
 "cells": [
  {
   "cell_type": "markdown",
   "id": "2c8c4a70-1fb2-49ea-831c-08b642760874",
   "metadata": {},
   "source": [
    "# **Sprint 2 - Desenvolvimento do Modelo** "
   ]
  },
  {
   "cell_type": "markdown",
   "id": "016c04b9-9543-4e95-9704-ea723055e3d1",
   "metadata": {},
   "source": [
    "Nesta Sprint vamos fazer as seguintes atividades:\n",
    "\n",
    "* **Escolha do Algoritmo:** Aqui, selecionaremos o algoritmo de classificação mais apropriado para o nosso projeto, com base nas características dos dados.\n",
    "\n",
    "* **Treinamento do Modelo:** Usando os dados preparados na Sprint 1, treinaremos o modelo de classificação. Isso envolve o ajuste dos parâmetros do algoritmo e a otimização do desempenho.\n",
    "\n",
    "* **Avaliação de Desempenho:** Avaliaremos o desempenho do modelo com diversas métricas de qualidade, garantindo que ele atenda aos nossos critérios de sucesso.\n"
   ]
  },
  {
   "cell_type": "markdown",
   "id": "48fc60f0-bd6c-4bf0-8894-078d5e5cb985",
   "metadata": {},
   "source": [
    "## Bibliotecas Utilizadas"
   ]
  },
  {
   "cell_type": "code",
   "execution_count": 1,
   "id": "307a59ee-08ac-41f3-8673-1f60a51c69a4",
   "metadata": {
    "tags": []
   },
   "outputs": [],
   "source": [
    "import pandas as pd\n",
    "import numpy as np\n",
    "import matplotlib.pyplot as plt\n",
    "import seaborn as sns\n",
    "\n",
    "from sklearn.model_selection import train_test_split, cross_val_score, GridSearchCV\n",
    "from sklearn.metrics import accuracy_score, precision_score, recall_score, f1_score, roc_auc_score, confusion_matrix\n",
    "from sklearn.ensemble import RandomForestClassifier\n",
    "from sklearn.linear_model import LogisticRegression\n",
    "from sklearn.tree import DecisionTreeClassifier\n",
    "\n",
    "from joblib import dump, load\n",
    "\n",
    "import warnings\n",
    "warnings.simplefilter(action='ignore')"
   ]
  },
  {
   "cell_type": "markdown",
   "id": "f440c1cf-0a19-49e7-990f-832c2b989b9b",
   "metadata": {},
   "source": [
    "## Carregando o Conjunto de Dados"
   ]
  },
  {
   "cell_type": "code",
   "execution_count": 2,
   "id": "af7a5fc3-add5-434f-b09f-1ced173f5ec3",
   "metadata": {
    "tags": []
   },
   "outputs": [
    {
     "data": {
      "text/html": [
       "<div>\n",
       "<style scoped>\n",
       "    .dataframe tbody tr th:only-of-type {\n",
       "        vertical-align: middle;\n",
       "    }\n",
       "\n",
       "    .dataframe tbody tr th {\n",
       "        vertical-align: top;\n",
       "    }\n",
       "\n",
       "    .dataframe thead th {\n",
       "        text-align: right;\n",
       "    }\n",
       "</style>\n",
       "<table border=\"1\" class=\"dataframe\">\n",
       "  <thead>\n",
       "    <tr style=\"text-align: right;\">\n",
       "      <th></th>\n",
       "      <th>ID</th>\n",
       "      <th>sexo</th>\n",
       "      <th>idade</th>\n",
       "      <th>ocupacao</th>\n",
       "      <th>horas_de_sono</th>\n",
       "      <th>qualidade_do_sono</th>\n",
       "      <th>nivel_atividade_fisica</th>\n",
       "      <th>nivel_stress</th>\n",
       "      <th>categoria_IMC</th>\n",
       "      <th>pressao_sanguinea</th>\n",
       "      <th>frequencia_cardiaca</th>\n",
       "      <th>passos_diarios</th>\n",
       "      <th>disturbio_do_sono</th>\n",
       "      <th>tem_disturbio_do_sono</th>\n",
       "    </tr>\n",
       "  </thead>\n",
       "  <tbody>\n",
       "    <tr>\n",
       "      <th>0</th>\n",
       "      <td>1</td>\n",
       "      <td>Masculino</td>\n",
       "      <td>27</td>\n",
       "      <td>Engenheiro de Software</td>\n",
       "      <td>6.1</td>\n",
       "      <td>6</td>\n",
       "      <td>42</td>\n",
       "      <td>6</td>\n",
       "      <td>Sobrepeso</td>\n",
       "      <td>126/83</td>\n",
       "      <td>77</td>\n",
       "      <td>4200</td>\n",
       "      <td>Nenhum</td>\n",
       "      <td>False</td>\n",
       "    </tr>\n",
       "    <tr>\n",
       "      <th>1</th>\n",
       "      <td>2</td>\n",
       "      <td>Masculino</td>\n",
       "      <td>28</td>\n",
       "      <td>Médico</td>\n",
       "      <td>6.2</td>\n",
       "      <td>6</td>\n",
       "      <td>60</td>\n",
       "      <td>8</td>\n",
       "      <td>Normal</td>\n",
       "      <td>125/80</td>\n",
       "      <td>75</td>\n",
       "      <td>10000</td>\n",
       "      <td>Nenhum</td>\n",
       "      <td>False</td>\n",
       "    </tr>\n",
       "    <tr>\n",
       "      <th>2</th>\n",
       "      <td>3</td>\n",
       "      <td>Masculino</td>\n",
       "      <td>28</td>\n",
       "      <td>Médico</td>\n",
       "      <td>6.2</td>\n",
       "      <td>6</td>\n",
       "      <td>60</td>\n",
       "      <td>8</td>\n",
       "      <td>Normal</td>\n",
       "      <td>125/80</td>\n",
       "      <td>75</td>\n",
       "      <td>10000</td>\n",
       "      <td>Nenhum</td>\n",
       "      <td>False</td>\n",
       "    </tr>\n",
       "    <tr>\n",
       "      <th>3</th>\n",
       "      <td>4</td>\n",
       "      <td>Masculino</td>\n",
       "      <td>28</td>\n",
       "      <td>Representante de Vendas</td>\n",
       "      <td>5.9</td>\n",
       "      <td>4</td>\n",
       "      <td>30</td>\n",
       "      <td>8</td>\n",
       "      <td>Obeso</td>\n",
       "      <td>140/90</td>\n",
       "      <td>85</td>\n",
       "      <td>3000</td>\n",
       "      <td>Apneia do Sono</td>\n",
       "      <td>True</td>\n",
       "    </tr>\n",
       "    <tr>\n",
       "      <th>4</th>\n",
       "      <td>5</td>\n",
       "      <td>Masculino</td>\n",
       "      <td>28</td>\n",
       "      <td>Representante de Vendas</td>\n",
       "      <td>5.9</td>\n",
       "      <td>4</td>\n",
       "      <td>30</td>\n",
       "      <td>8</td>\n",
       "      <td>Obeso</td>\n",
       "      <td>140/90</td>\n",
       "      <td>85</td>\n",
       "      <td>3000</td>\n",
       "      <td>Apneia do Sono</td>\n",
       "      <td>True</td>\n",
       "    </tr>\n",
       "  </tbody>\n",
       "</table>\n",
       "</div>"
      ],
      "text/plain": [
       "   ID       sexo  idade                 ocupacao  horas_de_sono  \\\n",
       "0   1  Masculino     27   Engenheiro de Software            6.1   \n",
       "1   2  Masculino     28                   Médico            6.2   \n",
       "2   3  Masculino     28                   Médico            6.2   \n",
       "3   4  Masculino     28  Representante de Vendas            5.9   \n",
       "4   5  Masculino     28  Representante de Vendas            5.9   \n",
       "\n",
       "   qualidade_do_sono  nivel_atividade_fisica  nivel_stress categoria_IMC  \\\n",
       "0                  6                      42             6     Sobrepeso   \n",
       "1                  6                      60             8        Normal   \n",
       "2                  6                      60             8        Normal   \n",
       "3                  4                      30             8         Obeso   \n",
       "4                  4                      30             8         Obeso   \n",
       "\n",
       "  pressao_sanguinea  frequencia_cardiaca  passos_diarios disturbio_do_sono  \\\n",
       "0            126/83                   77            4200            Nenhum   \n",
       "1            125/80                   75           10000            Nenhum   \n",
       "2            125/80                   75           10000            Nenhum   \n",
       "3            140/90                   85            3000    Apneia do Sono   \n",
       "4            140/90                   85            3000    Apneia do Sono   \n",
       "\n",
       "   tem_disturbio_do_sono  \n",
       "0                  False  \n",
       "1                  False  \n",
       "2                  False  \n",
       "3                   True  \n",
       "4                   True  "
      ]
     },
     "execution_count": 2,
     "metadata": {},
     "output_type": "execute_result"
    }
   ],
   "source": [
    "df = pd.read_csv('../datasets/estudo_sono_tratado.csv')\n",
    "df.head() # Visualizando os primeiros registros"
   ]
  },
  {
   "cell_type": "code",
   "execution_count": 3,
   "id": "7c3d40b9-79fb-4f48-8d77-02802550c731",
   "metadata": {
    "tags": []
   },
   "outputs": [
    {
     "name": "stdout",
     "output_type": "stream",
     "text": [
      "<class 'pandas.core.frame.DataFrame'>\n",
      "RangeIndex: 374 entries, 0 to 373\n",
      "Data columns (total 14 columns):\n",
      " #   Column                  Non-Null Count  Dtype  \n",
      "---  ------                  --------------  -----  \n",
      " 0   ID                      374 non-null    int64  \n",
      " 1   sexo                    374 non-null    object \n",
      " 2   idade                   374 non-null    int64  \n",
      " 3   ocupacao                374 non-null    object \n",
      " 4   horas_de_sono           374 non-null    float64\n",
      " 5   qualidade_do_sono       374 non-null    int64  \n",
      " 6   nivel_atividade_fisica  374 non-null    int64  \n",
      " 7   nivel_stress            374 non-null    int64  \n",
      " 8   categoria_IMC           374 non-null    object \n",
      " 9   pressao_sanguinea       374 non-null    object \n",
      " 10  frequencia_cardiaca     374 non-null    int64  \n",
      " 11  passos_diarios          374 non-null    int64  \n",
      " 12  disturbio_do_sono       374 non-null    object \n",
      " 13  tem_disturbio_do_sono   374 non-null    bool   \n",
      "dtypes: bool(1), float64(1), int64(7), object(5)\n",
      "memory usage: 38.5+ KB\n"
     ]
    }
   ],
   "source": [
    "df.info()"
   ]
  },
  {
   "cell_type": "markdown",
   "id": "a20de7c1-805e-4ae5-bbd7-692cb58a7284",
   "metadata": {
    "tags": []
   },
   "source": [
    "## **Pré-Processamento dos Dados para utilização no Modelo**"
   ]
  },
  {
   "cell_type": "code",
   "execution_count": 4,
   "id": "c78165bf-5bb7-4dc5-8168-a391bba2b169",
   "metadata": {
    "tags": []
   },
   "outputs": [
    {
     "data": {
      "text/html": [
       "<div>\n",
       "<style scoped>\n",
       "    .dataframe tbody tr th:only-of-type {\n",
       "        vertical-align: middle;\n",
       "    }\n",
       "\n",
       "    .dataframe tbody tr th {\n",
       "        vertical-align: top;\n",
       "    }\n",
       "\n",
       "    .dataframe thead th {\n",
       "        text-align: right;\n",
       "    }\n",
       "</style>\n",
       "<table border=\"1\" class=\"dataframe\">\n",
       "  <thead>\n",
       "    <tr style=\"text-align: right;\">\n",
       "      <th></th>\n",
       "      <th>ID</th>\n",
       "      <th>sexo</th>\n",
       "      <th>idade</th>\n",
       "      <th>ocupacao</th>\n",
       "      <th>horas_de_sono</th>\n",
       "      <th>qualidade_do_sono</th>\n",
       "      <th>nivel_atividade_fisica</th>\n",
       "      <th>nivel_stress</th>\n",
       "      <th>categoria_IMC</th>\n",
       "      <th>frequencia_cardiaca</th>\n",
       "      <th>passos_diarios</th>\n",
       "      <th>disturbio_do_sono</th>\n",
       "      <th>tem_disturbio_do_sono</th>\n",
       "      <th>pressao_sistolica</th>\n",
       "      <th>pressao_diastolica</th>\n",
       "    </tr>\n",
       "  </thead>\n",
       "  <tbody>\n",
       "    <tr>\n",
       "      <th>0</th>\n",
       "      <td>1</td>\n",
       "      <td>Masculino</td>\n",
       "      <td>27</td>\n",
       "      <td>Engenheiro de Software</td>\n",
       "      <td>6.1</td>\n",
       "      <td>6</td>\n",
       "      <td>42</td>\n",
       "      <td>6</td>\n",
       "      <td>Sobrepeso</td>\n",
       "      <td>77</td>\n",
       "      <td>4200</td>\n",
       "      <td>Nenhum</td>\n",
       "      <td>False</td>\n",
       "      <td>126</td>\n",
       "      <td>83</td>\n",
       "    </tr>\n",
       "    <tr>\n",
       "      <th>1</th>\n",
       "      <td>2</td>\n",
       "      <td>Masculino</td>\n",
       "      <td>28</td>\n",
       "      <td>Médico</td>\n",
       "      <td>6.2</td>\n",
       "      <td>6</td>\n",
       "      <td>60</td>\n",
       "      <td>8</td>\n",
       "      <td>Normal</td>\n",
       "      <td>75</td>\n",
       "      <td>10000</td>\n",
       "      <td>Nenhum</td>\n",
       "      <td>False</td>\n",
       "      <td>125</td>\n",
       "      <td>80</td>\n",
       "    </tr>\n",
       "    <tr>\n",
       "      <th>2</th>\n",
       "      <td>3</td>\n",
       "      <td>Masculino</td>\n",
       "      <td>28</td>\n",
       "      <td>Médico</td>\n",
       "      <td>6.2</td>\n",
       "      <td>6</td>\n",
       "      <td>60</td>\n",
       "      <td>8</td>\n",
       "      <td>Normal</td>\n",
       "      <td>75</td>\n",
       "      <td>10000</td>\n",
       "      <td>Nenhum</td>\n",
       "      <td>False</td>\n",
       "      <td>125</td>\n",
       "      <td>80</td>\n",
       "    </tr>\n",
       "    <tr>\n",
       "      <th>3</th>\n",
       "      <td>4</td>\n",
       "      <td>Masculino</td>\n",
       "      <td>28</td>\n",
       "      <td>Representante de Vendas</td>\n",
       "      <td>5.9</td>\n",
       "      <td>4</td>\n",
       "      <td>30</td>\n",
       "      <td>8</td>\n",
       "      <td>Obeso</td>\n",
       "      <td>85</td>\n",
       "      <td>3000</td>\n",
       "      <td>Apneia do Sono</td>\n",
       "      <td>True</td>\n",
       "      <td>140</td>\n",
       "      <td>90</td>\n",
       "    </tr>\n",
       "    <tr>\n",
       "      <th>4</th>\n",
       "      <td>5</td>\n",
       "      <td>Masculino</td>\n",
       "      <td>28</td>\n",
       "      <td>Representante de Vendas</td>\n",
       "      <td>5.9</td>\n",
       "      <td>4</td>\n",
       "      <td>30</td>\n",
       "      <td>8</td>\n",
       "      <td>Obeso</td>\n",
       "      <td>85</td>\n",
       "      <td>3000</td>\n",
       "      <td>Apneia do Sono</td>\n",
       "      <td>True</td>\n",
       "      <td>140</td>\n",
       "      <td>90</td>\n",
       "    </tr>\n",
       "  </tbody>\n",
       "</table>\n",
       "</div>"
      ],
      "text/plain": [
       "   ID       sexo  idade                 ocupacao  horas_de_sono  \\\n",
       "0   1  Masculino     27   Engenheiro de Software            6.1   \n",
       "1   2  Masculino     28                   Médico            6.2   \n",
       "2   3  Masculino     28                   Médico            6.2   \n",
       "3   4  Masculino     28  Representante de Vendas            5.9   \n",
       "4   5  Masculino     28  Representante de Vendas            5.9   \n",
       "\n",
       "   qualidade_do_sono  nivel_atividade_fisica  nivel_stress categoria_IMC  \\\n",
       "0                  6                      42             6     Sobrepeso   \n",
       "1                  6                      60             8        Normal   \n",
       "2                  6                      60             8        Normal   \n",
       "3                  4                      30             8         Obeso   \n",
       "4                  4                      30             8         Obeso   \n",
       "\n",
       "   frequencia_cardiaca  passos_diarios disturbio_do_sono  \\\n",
       "0                   77            4200            Nenhum   \n",
       "1                   75           10000            Nenhum   \n",
       "2                   75           10000            Nenhum   \n",
       "3                   85            3000    Apneia do Sono   \n",
       "4                   85            3000    Apneia do Sono   \n",
       "\n",
       "   tem_disturbio_do_sono  pressao_sistolica  pressao_diastolica  \n",
       "0                  False                126                  83  \n",
       "1                  False                125                  80  \n",
       "2                  False                125                  80  \n",
       "3                   True                140                  90  \n",
       "4                   True                140                  90  "
      ]
     },
     "execution_count": 4,
     "metadata": {},
     "output_type": "execute_result"
    }
   ],
   "source": [
    "# Convertendo a coluna 'pressao_sanguinea' para duas colunas separadas de pressão sistólica e diastólica\n",
    "df[['pressao_sistolica', 'pressao_diastolica']] = df['pressao_sanguinea'].str.split('/', expand=True)\n",
    "\n",
    "# Excluindo a coluna original 'pressao_sanguinea'\n",
    "df.drop('pressao_sanguinea', axis=1, inplace=True)\n",
    "\n",
    "# Transformando os novos dados em INT:\n",
    "df['pressao_diastolica'] = df['pressao_diastolica'].astype('int')\n",
    "df['pressao_sistolica'] = df['pressao_sistolica'].astype('int')\n",
    "df.head()"
   ]
  },
  {
   "cell_type": "code",
   "execution_count": 5,
   "id": "ee479000-768b-43d1-a687-19e3d5ef182b",
   "metadata": {
    "tags": []
   },
   "outputs": [
    {
     "data": {
      "text/html": [
       "<div>\n",
       "<style scoped>\n",
       "    .dataframe tbody tr th:only-of-type {\n",
       "        vertical-align: middle;\n",
       "    }\n",
       "\n",
       "    .dataframe tbody tr th {\n",
       "        vertical-align: top;\n",
       "    }\n",
       "\n",
       "    .dataframe thead th {\n",
       "        text-align: right;\n",
       "    }\n",
       "</style>\n",
       "<table border=\"1\" class=\"dataframe\">\n",
       "  <thead>\n",
       "    <tr style=\"text-align: right;\">\n",
       "      <th></th>\n",
       "      <th>ID</th>\n",
       "      <th>idade</th>\n",
       "      <th>ocupacao</th>\n",
       "      <th>horas_de_sono</th>\n",
       "      <th>qualidade_do_sono</th>\n",
       "      <th>nivel_atividade_fisica</th>\n",
       "      <th>nivel_stress</th>\n",
       "      <th>frequencia_cardiaca</th>\n",
       "      <th>passos_diarios</th>\n",
       "      <th>disturbio_do_sono</th>\n",
       "      <th>tem_disturbio_do_sono</th>\n",
       "      <th>pressao_sistolica</th>\n",
       "      <th>pressao_diastolica</th>\n",
       "      <th>sexo_Masculino</th>\n",
       "      <th>categoria_IMC_Obeso</th>\n",
       "      <th>categoria_IMC_Peso Normal</th>\n",
       "      <th>categoria_IMC_Sobrepeso</th>\n",
       "    </tr>\n",
       "  </thead>\n",
       "  <tbody>\n",
       "    <tr>\n",
       "      <th>0</th>\n",
       "      <td>1</td>\n",
       "      <td>27</td>\n",
       "      <td>Engenheiro de Software</td>\n",
       "      <td>6.1</td>\n",
       "      <td>6</td>\n",
       "      <td>42</td>\n",
       "      <td>6</td>\n",
       "      <td>77</td>\n",
       "      <td>4200</td>\n",
       "      <td>Nenhum</td>\n",
       "      <td>False</td>\n",
       "      <td>126</td>\n",
       "      <td>83</td>\n",
       "      <td>1</td>\n",
       "      <td>0</td>\n",
       "      <td>0</td>\n",
       "      <td>1</td>\n",
       "    </tr>\n",
       "    <tr>\n",
       "      <th>1</th>\n",
       "      <td>2</td>\n",
       "      <td>28</td>\n",
       "      <td>Médico</td>\n",
       "      <td>6.2</td>\n",
       "      <td>6</td>\n",
       "      <td>60</td>\n",
       "      <td>8</td>\n",
       "      <td>75</td>\n",
       "      <td>10000</td>\n",
       "      <td>Nenhum</td>\n",
       "      <td>False</td>\n",
       "      <td>125</td>\n",
       "      <td>80</td>\n",
       "      <td>1</td>\n",
       "      <td>0</td>\n",
       "      <td>0</td>\n",
       "      <td>0</td>\n",
       "    </tr>\n",
       "    <tr>\n",
       "      <th>2</th>\n",
       "      <td>3</td>\n",
       "      <td>28</td>\n",
       "      <td>Médico</td>\n",
       "      <td>6.2</td>\n",
       "      <td>6</td>\n",
       "      <td>60</td>\n",
       "      <td>8</td>\n",
       "      <td>75</td>\n",
       "      <td>10000</td>\n",
       "      <td>Nenhum</td>\n",
       "      <td>False</td>\n",
       "      <td>125</td>\n",
       "      <td>80</td>\n",
       "      <td>1</td>\n",
       "      <td>0</td>\n",
       "      <td>0</td>\n",
       "      <td>0</td>\n",
       "    </tr>\n",
       "    <tr>\n",
       "      <th>3</th>\n",
       "      <td>4</td>\n",
       "      <td>28</td>\n",
       "      <td>Representante de Vendas</td>\n",
       "      <td>5.9</td>\n",
       "      <td>4</td>\n",
       "      <td>30</td>\n",
       "      <td>8</td>\n",
       "      <td>85</td>\n",
       "      <td>3000</td>\n",
       "      <td>Apneia do Sono</td>\n",
       "      <td>True</td>\n",
       "      <td>140</td>\n",
       "      <td>90</td>\n",
       "      <td>1</td>\n",
       "      <td>1</td>\n",
       "      <td>0</td>\n",
       "      <td>0</td>\n",
       "    </tr>\n",
       "    <tr>\n",
       "      <th>4</th>\n",
       "      <td>5</td>\n",
       "      <td>28</td>\n",
       "      <td>Representante de Vendas</td>\n",
       "      <td>5.9</td>\n",
       "      <td>4</td>\n",
       "      <td>30</td>\n",
       "      <td>8</td>\n",
       "      <td>85</td>\n",
       "      <td>3000</td>\n",
       "      <td>Apneia do Sono</td>\n",
       "      <td>True</td>\n",
       "      <td>140</td>\n",
       "      <td>90</td>\n",
       "      <td>1</td>\n",
       "      <td>1</td>\n",
       "      <td>0</td>\n",
       "      <td>0</td>\n",
       "    </tr>\n",
       "  </tbody>\n",
       "</table>\n",
       "</div>"
      ],
      "text/plain": [
       "   ID  idade                 ocupacao  horas_de_sono  qualidade_do_sono  \\\n",
       "0   1     27   Engenheiro de Software            6.1                  6   \n",
       "1   2     28                   Médico            6.2                  6   \n",
       "2   3     28                   Médico            6.2                  6   \n",
       "3   4     28  Representante de Vendas            5.9                  4   \n",
       "4   5     28  Representante de Vendas            5.9                  4   \n",
       "\n",
       "   nivel_atividade_fisica  nivel_stress  frequencia_cardiaca  passos_diarios  \\\n",
       "0                      42             6                   77            4200   \n",
       "1                      60             8                   75           10000   \n",
       "2                      60             8                   75           10000   \n",
       "3                      30             8                   85            3000   \n",
       "4                      30             8                   85            3000   \n",
       "\n",
       "  disturbio_do_sono  tem_disturbio_do_sono  pressao_sistolica  \\\n",
       "0            Nenhum                  False                126   \n",
       "1            Nenhum                  False                125   \n",
       "2            Nenhum                  False                125   \n",
       "3    Apneia do Sono                   True                140   \n",
       "4    Apneia do Sono                   True                140   \n",
       "\n",
       "   pressao_diastolica  sexo_Masculino  categoria_IMC_Obeso  \\\n",
       "0                  83               1                    0   \n",
       "1                  80               1                    0   \n",
       "2                  80               1                    0   \n",
       "3                  90               1                    1   \n",
       "4                  90               1                    1   \n",
       "\n",
       "   categoria_IMC_Peso Normal  categoria_IMC_Sobrepeso  \n",
       "0                          0                        1  \n",
       "1                          0                        0  \n",
       "2                          0                        0  \n",
       "3                          0                        0  \n",
       "4                          0                        0  "
      ]
     },
     "execution_count": 5,
     "metadata": {},
     "output_type": "execute_result"
    }
   ],
   "source": [
    "# Criando variaveis dummies\n",
    "#df = pd.get_dummies(df, columns=['sexo', 'ocupacao', 'categoria_IMC'], drop_first=True, dtype='int')\n",
    "df = pd.get_dummies(df, columns=['sexo', 'categoria_IMC'], drop_first=True, dtype='int')\n",
    "df.head()"
   ]
  },
  {
   "cell_type": "code",
   "execution_count": 6,
   "id": "c8f34944-0716-4da1-ab80-fd6b32f0a473",
   "metadata": {
    "tags": []
   },
   "outputs": [
    {
     "name": "stdout",
     "output_type": "stream",
     "text": [
      "<class 'pandas.core.frame.DataFrame'>\n",
      "RangeIndex: 374 entries, 0 to 373\n",
      "Data columns (total 17 columns):\n",
      " #   Column                     Non-Null Count  Dtype  \n",
      "---  ------                     --------------  -----  \n",
      " 0   ID                         374 non-null    int64  \n",
      " 1   idade                      374 non-null    int64  \n",
      " 2   ocupacao                   374 non-null    object \n",
      " 3   horas_de_sono              374 non-null    float64\n",
      " 4   qualidade_do_sono          374 non-null    int64  \n",
      " 5   nivel_atividade_fisica     374 non-null    int64  \n",
      " 6   nivel_stress               374 non-null    int64  \n",
      " 7   frequencia_cardiaca        374 non-null    int64  \n",
      " 8   passos_diarios             374 non-null    int64  \n",
      " 9   disturbio_do_sono          374 non-null    object \n",
      " 10  tem_disturbio_do_sono      374 non-null    bool   \n",
      " 11  pressao_sistolica          374 non-null    int64  \n",
      " 12  pressao_diastolica         374 non-null    int64  \n",
      " 13  sexo_Masculino             374 non-null    int64  \n",
      " 14  categoria_IMC_Obeso        374 non-null    int64  \n",
      " 15  categoria_IMC_Peso Normal  374 non-null    int64  \n",
      " 16  categoria_IMC_Sobrepeso    374 non-null    int64  \n",
      "dtypes: bool(1), float64(1), int64(13), object(2)\n",
      "memory usage: 47.2+ KB\n"
     ]
    }
   ],
   "source": [
    "df.info()"
   ]
  },
  {
   "cell_type": "markdown",
   "id": "a1270238-b867-4edf-be04-6e335bcfa964",
   "metadata": {},
   "source": [
    "## **Escolha do Algoritmo**"
   ]
  },
  {
   "cell_type": "markdown",
   "id": "ae69aa06-98e5-49e2-804b-3715df203495",
   "metadata": {},
   "source": [
    "Neste projeto, serão utilizados três algoritmos de classificação para modelar e prever os resultados desejados. Cada um desses algoritmos tem características distintas, oferecendo diferentes vantagens em termos de desempenho e interpretabilidade.\n",
    "\n",
    "### **1. RandomForest**\n",
    "\n",
    "O RandomForest é um modelo baseado em conjunto que combina as previsões de várias árvores de decisão para obter uma previsão mais robusta e geral. \n",
    "\n",
    "Este modelo é conhecido por sua eficácia em lidar com uma variedade de conjuntos de dados e sua resistência ao overfitting.\n",
    "\n",
    "### **2. Logistic Regression**\n",
    "\n",
    "O Logistic Regression é uma técnica de regressão utilizada para problemas de classificação binária. Apesar da sua simplicidade, a Regressão Logística é rápida e fácil de interpretar. \n",
    "\n",
    "É especialmente eficaz quando a relação entre as features e a variável de destino é predominantemente linear.\n",
    "\n",
    "### **3. Decision Tree**\n",
    "\n",
    "O Decision Tree é um modelo de árvore de decisão que divide iterativamente o conjunto de dados em subconjuntos mais puros. \n",
    "\n",
    "Apesar de sua simplicidade e interpretabilidade, as árvores de decisão podem ser propensas a sobreajuste, ajustando-se demais aos dados de treinamento."
   ]
  },
  {
   "cell_type": "markdown",
   "id": "725b3d0e-4e2d-43ff-b133-09d8f1a09304",
   "metadata": {},
   "source": [
    "## **Treinamento do Modelo**"
   ]
  },
  {
   "cell_type": "markdown",
   "id": "3f1d6bc1-8591-4f61-85f7-cf6098e47810",
   "metadata": {},
   "source": [
    "Para iniciarmos o treinamento do modelo, vamos separar os dados para treino e teste.\n",
    "\n",
    "Mas antes, vamos excluir algumas variáveis que não vamos utilizar nos modelos. São elas:\n",
    "\n",
    "- **ID** : Não faz sentido utilizarmos essa variável de identificação\n",
    "- **'tem_disturbio_do_sono'** e '**disturbio_do_sono'**: Não vamos utilizar essa variáveis pois elas possuem a resposta que nosso modelo irá responder\n",
    "- **ocupacao**: Como trata-se de um seguro que é comercializado para o público em geral, vamos manter apenas os dados de saúde como preditores.\n",
    "\n",
    "Após retiradas as variáveis acima, vamos utilizar o train_test_split do scikit-learn para separar nossos dados de treino e teste."
   ]
  },
  {
   "cell_type": "code",
   "execution_count": 7,
   "id": "dfeff848-0756-4014-b12b-5950bfc0c34b",
   "metadata": {},
   "outputs": [],
   "source": [
    "# Dividindo base de treino e teste:\n",
    "X = df.drop(['ID', 'tem_disturbio_do_sono', 'disturbio_do_sono', 'ocupacao'], axis=1)\n",
    "y = df['tem_disturbio_do_sono']\n",
    "X_train, X_test, y_train, y_test = train_test_split(X, y, test_size=0.2, random_state=23)"
   ]
  },
  {
   "cell_type": "markdown",
   "id": "0d45f5af-24d2-44cd-920b-81e0c34b8478",
   "metadata": {},
   "source": [
    "Para o treinamento dos modelos, vamos utilizar a função do scikit-learn GridSearchCV.\n",
    "\n",
    "O GridSearchCV encontra os melhores hiperparâmetros para um modelo por meio da busca em uma grade de valores possíveis para esses hiperparâmetros. Além disso, ele também divide o conjunto de dados em partes (folds) e avalia o desempenho do modelo usando validação cruzada em cada combinação de hiperparâmetros. "
   ]
  },
  {
   "cell_type": "code",
   "execution_count": 8,
   "id": "518788c7-1ed8-4345-91c6-d8cd0a6f1a47",
   "metadata": {
    "tags": []
   },
   "outputs": [
    {
     "name": "stdout",
     "output_type": "stream",
     "text": [
      "Melhores hiperparametros para RandomForest: {'max_depth': None, 'min_samples_leaf': 1, 'min_samples_split': 2, 'n_estimators': 50}\n",
      "Melhores hiperparametros para Logistic Regression: {'C': 0.01, 'penalty': 'l2'}\n",
      "Melhores hiperparametros para Decision Tree: {'max_depth': None, 'min_samples_leaf': 1, 'min_samples_split': 10}\n"
     ]
    }
   ],
   "source": [
    "# Definindo os hiperparâmetros que deseja otimizar para cada modelo\n",
    "param_grid_rf = {\n",
    "    'n_estimators': [50, 100, 200],\n",
    "    'max_depth': [None, 10, 20, 30],\n",
    "    'min_samples_split': [2, 5, 10, 15, 20],\n",
    "    'min_samples_leaf': [1, 2, 4, 6, 8]\n",
    "}\n",
    "\n",
    "param_grid_lr = {\n",
    "    'C': [0.001, 0.01, 0.1, 1, 10, 100],\n",
    "    'penalty': ['l1', 'l2']\n",
    "}\n",
    "\n",
    "param_grid_dt = {\n",
    "    'max_depth': [None, 10, 20, 30],\n",
    "    'min_samples_split': [2, 5, 10, 15, 20],\n",
    "    'min_samples_leaf': [1, 2, 4, 6, 8]\n",
    "}\n",
    "\n",
    "# Criando os classificadores\n",
    "rf_classifier = RandomForestClassifier(random_state=23)\n",
    "lr_classifier = LogisticRegression(random_state=23)\n",
    "dt_classifier = DecisionTreeClassifier(random_state=23)\n",
    "\n",
    "# Use GridSearchCV para encontrar os melhores hiperparâmetros para cada modelo\n",
    "grid_search_rf = GridSearchCV(rf_classifier, param_grid_rf, cv=5, scoring='accuracy')\n",
    "grid_search_lr = GridSearchCV(lr_classifier, param_grid_lr, cv=5, scoring='accuracy')\n",
    "grid_search_dt = GridSearchCV(dt_classifier, param_grid_dt, cv=5, scoring='accuracy')\n",
    "\n",
    "# Treinar os modelos com os melhores hiperparâmetros\n",
    "grid_search_rf.fit(X_train, y_train)\n",
    "grid_search_lr.fit(X_train, y_train)\n",
    "grid_search_dt.fit(X_train, y_train)\n",
    "\n",
    "# Imprimir os melhores hiperparâmetros para cada modelo\n",
    "print(\"Melhores hiperparametros para RandomForest:\", grid_search_rf.best_params_)\n",
    "print(\"Melhores hiperparametros para Logistic Regression:\", grid_search_lr.best_params_)\n",
    "print(\"Melhores hiperparametros para Decision Tree:\", grid_search_dt.best_params_)"
   ]
  },
  {
   "cell_type": "markdown",
   "id": "7209e5db-e2f2-44eb-8384-c320326c041c",
   "metadata": {},
   "source": [
    "Acima vimos que o Grid Search CV encontrou os melhores parâmetros para cada algorítimo de classificação."
   ]
  },
  {
   "cell_type": "markdown",
   "id": "3d03e50e-8cb8-4178-8cf2-b3a833e98817",
   "metadata": {},
   "source": [
    "## **Avaliação de Desempenho**"
   ]
  },
  {
   "cell_type": "markdown",
   "id": "a51c5277-d1f3-416e-8826-b62f7c2ee1a9",
   "metadata": {},
   "source": [
    "Para avaliação dos algoritmos, vamos utilizar seis métricas:\n",
    "\n",
    "- **Acurácia:**\n",
    "Mede a proporção de predições corretas em relação ao total de predições.\n",
    "\n",
    "- **Precisão:**\n",
    "Mede a proporção de instâncias positivas previstas corretamente em relação ao total de instâncias positivas previstas.\n",
    "\n",
    "- **Recall**\n",
    "Mede a proporção de instâncias positivas previstas corretamente em relação ao total de instâncias positivas reais.\n",
    "\n",
    "- **F1-Score:**\n",
    "É a média harmônica entre precisão e recall.\n",
    "\n",
    "- **AUC-ROC:**\n",
    "É uma métrica que avalia o desempenho do modelo em diferentes pontos de corte de probabilidade.\n",
    "Um valor próximo de 1.0 indica um bom desempenho.\n",
    "\n",
    "- **Matriz de Confusão:**\n",
    "A matriz de confusão é uma tabela que mostra a distribuição dos resultados da classificação em cada classe.\n",
    "Fornece uma visão detalhada dos resultados do modelo, incluindo verdadeiros positivos, verdadeiros negativos, falsos positivos e falsos negativos."
   ]
  },
  {
   "cell_type": "code",
   "execution_count": 38,
   "id": "c6b53246-51d1-4d82-8c57-fabd778c1303",
   "metadata": {
    "tags": []
   },
   "outputs": [],
   "source": [
    "# Função para avaliar e imprimir métricas\n",
    "def avalia_modelo(model, X_test, y_test):\n",
    "    y_pred = model.predict(X_test)\n",
    "    \n",
    "    # Acurácia\n",
    "    acuracia = accuracy_score(y_test, y_pred)\n",
    "    print(\"Acurácia:\", round(acuracia,2))\n",
    "    \n",
    "    # Precisão\n",
    "    precisao = precision_score(y_test, y_pred)\n",
    "    print(\"Precisão:\", round(precisao,2))\n",
    "    \n",
    "    # Recall\n",
    "    recall = recall_score(y_test, y_pred)\n",
    "    print(\"Recall:\", round(recall,2))\n",
    "    \n",
    "    # F1-Score\n",
    "    f1 = f1_score(y_test, y_pred)\n",
    "    print(\"F1-Score:\", round(f1,2))\n",
    "    \n",
    "    # AUC-ROC \n",
    "    if hasattr(model, 'predict_proba'):\n",
    "        y_probs = model.predict_proba(X_test)[:, 1]\n",
    "        auc_roc = roc_auc_score(y_test, y_probs)\n",
    "        print(\"AUC-ROC:\", round(auc_roc,2))\n",
    "    \n",
    "    # Matriz de Confusão\n",
    "    conf_matrix = confusion_matrix(y_test, y_pred)\n",
    "    print(\"Matriz de Confusão:\")\n",
    "    print(type(conf_matrix))\n",
    "    print(conf_matrix)\n",
    "    \n",
    "    \n",
    "    # Criar um mapa de calor usando seaborn\n",
    "    plt.figure(figsize=(5, 5))\n",
    "    sns.heatmap(conf_matrix, annot=False, cmap=\"Blues\", cbar=False, fmt=\"d\", linewidths=.5)\n",
    "    plt.xlabel('Predições')\n",
    "    plt.ylabel('Valores Reais')\n",
    "    for i in range(len(conf_matrix)):\n",
    "        for j in range(len(conf_matrix[i])):\n",
    "            plt.text(j + 0.5, i + 0.5, str(conf_matrix[i, j]), ha='center', va='center', weight='bold', fontsize=24)\n",
    "\n",
    "    plt.show()\n"
   ]
  },
  {
   "cell_type": "code",
   "execution_count": 39,
   "id": "111e2e89-f04a-4b73-ae47-5a8e7c777581",
   "metadata": {
    "tags": []
   },
   "outputs": [
    {
     "name": "stdout",
     "output_type": "stream",
     "text": [
      "\n",
      "Avaliação do RandomForest:\n",
      "Acurácia: 0.95\n",
      "Precisão: 0.93\n",
      "Recall: 0.93\n",
      "F1-Score: 0.93\n",
      "AUC-ROC: 0.95\n",
      "Matriz de Confusão:\n",
      "<class 'numpy.ndarray'>\n",
      "[[46  2]\n",
      " [ 2 25]]\n"
     ]
    },
    {
     "data": {
      "image/png": "[encoded data removed]",
      "text/plain": [
       "<Figure size 500x500 with 1 Axes>"
      ]
     },
     "metadata": {},
     "output_type": "display_data"
    },
    {
     "name": "stdout",
     "output_type": "stream",
     "text": [
      "\n",
      "Avaliação do Logistic Regression:\n",
      "Acurácia: 0.95\n",
      "Precisão: 0.93\n",
      "Recall: 0.93\n",
      "F1-Score: 0.93\n",
      "AUC-ROC: 0.92\n",
      "Matriz de Confusão:\n",
      "<class 'numpy.ndarray'>\n",
      "[[46  2]\n",
      " [ 2 25]]\n"
     ]
    },
    {
     "data": {
      "image/png": "[encoded data removed]",
      "text/plain": [
       "<Figure size 500x500 with 1 Axes>"
      ]
     },
     "metadata": {},
     "output_type": "display_data"
    },
    {
     "name": "stdout",
     "output_type": "stream",
     "text": [
      "\n",
      "Avaliação do Decision Tree:\n",
      "Acurácia: 0.95\n",
      "Precisão: 0.93\n",
      "Recall: 0.93\n",
      "F1-Score: 0.93\n",
      "AUC-ROC: 0.94\n",
      "Matriz de Confusão:\n",
      "<class 'numpy.ndarray'>\n",
      "[[46  2]\n",
      " [ 2 25]]\n"
     ]
    },
    {
     "data": {
      "image/png": "[encoded data removed]",
      "text/plain": [
       "<Figure size 500x500 with 1 Axes>"
      ]
     },
     "metadata": {},
     "output_type": "display_data"
    }
   ],
   "source": [
    "# Avaliando os modelos criados:\n",
    "# RandomForest\n",
    "print(\"\\nAvaliação do RandomForest:\")\n",
    "avalia_modelo(grid_search_rf.best_estimator_, X_test, y_test)\n",
    "\n",
    "# Logistic Regression\n",
    "print(\"\\nAvaliação do Logistic Regression:\")\n",
    "avalia_modelo(grid_search_lr.best_estimator_, X_test, y_test)\n",
    "\n",
    "# Decision Tree\n",
    "print(\"\\nAvaliação do Decision Tree:\")\n",
    "avalia_modelo(grid_search_dt.best_estimator_, X_test, y_test)"
   ]
  },
  {
   "cell_type": "markdown",
   "id": "9c477d87-ec96-4699-8b9f-1a6bf602465e",
   "metadata": {},
   "source": [
    "## **Conclusão**"
   ]
  },
  {
   "cell_type": "markdown",
   "id": "11cfe982-65fd-4a87-8d79-c578245980f8",
   "metadata": {},
   "source": [
    "Na escolha do modelo para nosso projeto, decidimos apostar no Logistic Regression como nossa ferramenta principal. A decisão baseia-se em resultados consistentes e similarmente sólidos entre RandomForest, Decision Tree e Logistic Regression. Optamos pelo Logistic Regression devido à sua simplicidade e interpretabilidade, uma escolha que faz sentido para o tamanho de nossa base de dados e facilita a compreensão do funcionamento do modelo. "
   ]
  },
  {
   "cell_type": "code",
   "execution_count": 11,
   "id": "4712082a-647f-4877-b37e-14a221bd3676",
   "metadata": {
    "tags": []
   },
   "outputs": [
    {
     "data": {
      "text/plain": [
       "['../modelos/modelo_logistic_regression.joblib']"
      ]
     },
     "execution_count": 11,
     "metadata": {},
     "output_type": "execute_result"
    }
   ],
   "source": [
    "# Salvando o modelo Logistc Regression para uso:\n",
    "\n",
    "dump(grid_search_lr.best_estimator_, '../modelos/modelo_logistic_regression.joblib')"
   ]
  }
 ],
 "metadata": {
  "kernelspec": {
   "display_name": "Python 3 (ipykernel)",
   "language": "python",
   "name": "python3"
  },
  "language_info": {
   "codemirror_mode": {
    "name": "ipython",
    "version": 3
   },
   "file_extension": ".py",
   "mimetype": "text/x-python",
   "name": "python",
   "nbconvert_exporter": "python",
   "pygments_lexer": "ipython3",
   "version": "3.11.5"
  }
 },
 "nbformat": 4,
 "nbformat_minor": 5
}
